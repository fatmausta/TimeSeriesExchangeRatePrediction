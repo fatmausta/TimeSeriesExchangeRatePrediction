{
 "cells": [
  {
   "cell_type": "code",
   "execution_count": 2,
   "metadata": {},
   "outputs": [],
   "source": [
    "import csv\n",
    "import requests\n",
    "import xml.etree.ElementTree as ET"
   ]
  },
  {
   "cell_type": "code",
   "execution_count": 3,
   "metadata": {},
   "outputs": [],
   "source": [
    "def loadCurrencyRates(url='https://www.tcmb.gov.tr/kurlar/today.xml'):\n",
    "    \n",
    "    # Create HTTP response object from given url.\n",
    "    resp = requests.get(url)\n",
    "    \n",
    "    # save xml file \n",
    "    with open('kurlar.xml', 'wb') as f:\n",
    "        f.write(resp.content)\n",
    "    "
   ]
  },
  {
   "cell_type": "code",
   "execution_count": 4,
   "metadata": {},
   "outputs": [],
   "source": [
    "def parseXML(xmlfile):\n",
    "    # Create element tree object\n",
    "    tree = ET.parse(xmlfile)\n",
    "    \n",
    "    # get root element\n",
    "    root = tree.getroot()\n",
    "    \n",
    "    return root"
   ]
  },
  {
   "cell_type": "code",
   "execution_count": 5,
   "metadata": {},
   "outputs": [],
   "source": [
    "loadCurrencyRates()"
   ]
  },
  {
   "cell_type": "code",
   "execution_count": 6,
   "metadata": {},
   "outputs": [],
   "source": [
    "root = parseXML('kurlar.xml')"
   ]
  },
  {
   "cell_type": "code",
   "execution_count": 9,
   "metadata": {},
   "outputs": [
    {
     "name": "stdout",
     "output_type": "stream",
     "text": [
      "Currency {'CrossOrder': '0', 'Kod': 'USD', 'CurrencyCode': 'USD'}\n",
      "Currency {'CrossOrder': '1', 'Kod': 'AUD', 'CurrencyCode': 'AUD'}\n",
      "Currency {'CrossOrder': '2', 'Kod': 'DKK', 'CurrencyCode': 'DKK'}\n",
      "Currency {'CrossOrder': '9', 'Kod': 'EUR', 'CurrencyCode': 'EUR'}\n",
      "Currency {'CrossOrder': '10', 'Kod': 'GBP', 'CurrencyCode': 'GBP'}\n",
      "Currency {'CrossOrder': '3', 'Kod': 'CHF', 'CurrencyCode': 'CHF'}\n",
      "Currency {'CrossOrder': '4', 'Kod': 'SEK', 'CurrencyCode': 'SEK'}\n",
      "Currency {'CrossOrder': '6', 'Kod': 'CAD', 'CurrencyCode': 'CAD'}\n",
      "Currency {'CrossOrder': '11', 'Kod': 'KWD', 'CurrencyCode': 'KWD'}\n",
      "Currency {'CrossOrder': '7', 'Kod': 'NOK', 'CurrencyCode': 'NOK'}\n",
      "Currency {'CrossOrder': '8', 'Kod': 'SAR', 'CurrencyCode': 'SAR'}\n",
      "Currency {'CrossOrder': '5', 'Kod': 'JPY', 'CurrencyCode': 'JPY'}\n",
      "Currency {'CrossOrder': '12', 'Kod': 'BGN', 'CurrencyCode': 'BGN'}\n",
      "Currency {'CrossOrder': '13', 'Kod': 'RON', 'CurrencyCode': 'RON'}\n",
      "Currency {'CrossOrder': '14', 'Kod': 'RUB', 'CurrencyCode': 'RUB'}\n",
      "Currency {'CrossOrder': '15', 'Kod': 'IRR', 'CurrencyCode': 'IRR'}\n",
      "Currency {'CrossOrder': '16', 'Kod': 'CNY', 'CurrencyCode': 'CNY'}\n",
      "Currency {'CrossOrder': '17', 'Kod': 'PKR', 'CurrencyCode': 'PKR'}\n",
      "Currency {'CrossOrder': '18', 'Kod': 'QAR', 'CurrencyCode': 'QAR'}\n",
      "Currency {'CrossOrder': '0', 'Kod': 'XDR', 'CurrencyCode': 'XDR'}\n"
     ]
    }
   ],
   "source": [
    "for child in root:\n",
    "    print(child.tag, child.attrib)"
   ]
  },
  {
   "cell_type": "code",
   "execution_count": 14,
   "metadata": {},
   "outputs": [],
   "source": [
    "if  root[0][1].text == 'ABD DOLARI':\n",
    "    USD_Banknote_selling = root[0][6].text\n",
    "if root[7][1].text == 'KANADA DOLARI':\n",
    "    CAD_Banknote_selling = root[7][6].text"
   ]
  },
  {
   "cell_type": "code",
   "execution_count": 16,
   "metadata": {},
   "outputs": [
    {
     "data": {
      "text/plain": [
       "'KANADA DOLARI'"
      ]
     },
     "execution_count": 16,
     "metadata": {},
     "output_type": "execute_result"
    }
   ],
   "source": [
    "root[7][1].text"
   ]
  },
  {
   "cell_type": "code",
   "execution_count": 17,
   "metadata": {},
   "outputs": [
    {
     "data": {
      "text/plain": [
       "'5.5912'"
      ]
     },
     "execution_count": 17,
     "metadata": {},
     "output_type": "execute_result"
    }
   ],
   "source": [
    "root[7][6].text"
   ]
  },
  {
   "cell_type": "code",
   "execution_count": null,
   "metadata": {},
   "outputs": [],
   "source": []
  }
 ],
 "metadata": {
  "kernelspec": {
   "display_name": "Python 3",
   "language": "python",
   "name": "python3"
  },
  "language_info": {
   "codemirror_mode": {
    "name": "ipython",
    "version": 3
   },
   "file_extension": ".py",
   "mimetype": "text/x-python",
   "name": "python",
   "nbconvert_exporter": "python",
   "pygments_lexer": "ipython3",
   "version": "3.7.7"
  }
 },
 "nbformat": 4,
 "nbformat_minor": 4
}
