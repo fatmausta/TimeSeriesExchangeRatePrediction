{
 "cells": [
  {
   "cell_type": "code",
   "execution_count": 1,
   "metadata": {},
   "outputs": [
    {
     "name": "stdout",
     "output_type": "stream",
     "text": [
      "Requirement already satisfied: requests in c:\\users\\fatma\\anaconda3\\lib\\site-packages (2.22.0)\n",
      "Requirement already satisfied: chardet<3.1.0,>=3.0.2 in c:\\users\\fatma\\anaconda3\\lib\\site-packages (from requests) (3.0.4)\n",
      "Requirement already satisfied: urllib3!=1.25.0,!=1.25.1,<1.26,>=1.21.1 in c:\\users\\fatma\\anaconda3\\lib\\site-packages (from requests) (1.25.8)\n",
      "Requirement already satisfied: idna<2.9,>=2.5 in c:\\users\\fatma\\anaconda3\\lib\\site-packages (from requests) (2.8)\n",
      "Requirement already satisfied: certifi>=2017.4.17 in c:\\users\\fatma\\anaconda3\\lib\\site-packages (from requests) (2020.12.5)\n"
     ]
    }
   ],
   "source": [
    "!pip install requests"
   ]
  },
  {
   "cell_type": "code",
   "execution_count": 15,
   "metadata": {},
   "outputs": [],
   "source": [
    "import requests"
   ]
  },
  {
   "cell_type": "code",
   "execution_count": 10,
   "metadata": {},
   "outputs": [],
   "source": [
    "response = requests.get('https://www.tcmb.gov.tr/kurlar/today.xml')"
   ]
  },
  {
   "cell_type": "code",
   "execution_count": 13,
   "metadata": {},
   "outputs": [
    {
     "data": {
      "text/plain": [
       "b'<?xml version=\"1.0\" encoding=\"UTF-8\"?>\\r\\n<?xml-stylesheet type=\"text/xsl\" href=\"isokur.xsl\"?>\\r\\n<Tarih_Date Tarih=\"11.02.2021\" Date=\"02/11/2021\"  Bulten_No=\"2021/29\" >\\r\\n\\t<Currency CrossOrder=\"0\" Kod=\"USD\" CurrencyCode=\"USD\">\\r\\n\\t\\t\\t<Unit>1</Unit>\\r\\n\\t\\t\\t<Isim>ABD DOLARI</Isim>\\r\\n\\t\\t\\t<CurrencyName>US DOLLAR</CurrencyName>\\r\\n\\t\\t\\t<ForexBuying>7.0404</ForexBuying>\\r\\n\\t\\t\\t<ForexSelling>7.0531</ForexSelling>\\r\\n\\t\\t\\t<BanknoteBuying>7.0355</BanknoteBuying>\\r\\n\\t\\t\\t<BanknoteSelling>7.0637</BanknoteSelling>\\r\\n\\t\\t\\t<CrossRateUSD/>\\r\\n\\t\\t\\t<CrossRateOther/>\\r\\n\\t\\t\\r\\n\\t</Currency>\\r\\n\\t<Currency CrossOrder=\"1\" Kod=\"AUD\" CurrencyCode=\"AUD\">\\r\\n\\t\\t\\t<Unit>1</Unit>\\r\\n\\t\\t\\t<Isim>AVUSTRALYA DOLARI</Isim>\\r\\n\\t\\t\\t<CurrencyName>AUSTRALIAN DOLLAR</CurrencyName>\\r\\n\\t\\t\\t<ForexBuying>5.4391</ForexBuying>\\r\\n\\t\\t\\t<ForexSelling>5.4745</ForexSelling>\\r\\n\\t\\t\\t<BanknoteBuying>5.4141</BanknoteBuying>\\r\\n\\t\\t\\t<BanknoteSelling>5.5074</BanknoteSelling>\\r\\n\\t\\t\\t\\t<CrossRateUSD>1.2914</CrossRateUSD>\\r\\n\\t\\t\\t\\t<CrossRateOther/>\\r\\n\\t\\t\\r\\n\\t</Currency>\\r\\n\\t<Currency CrossOrder=\"2\" Kod=\"DKK\" CurrencyCode=\"DKK\">\\r\\n\\t\\t\\t<Unit>1</Unit>\\r\\n\\t\\t\\t<Isim>DAN\\xc4\\xb0MARKA KRONU</Isim>\\r\\n\\t\\t\\t<CurrencyName>DANISH KRONE</CurrencyName>\\r\\n\\t\\t\\t<ForexBuying>1.1461</ForexBuying>\\r\\n\\t\\t\\t<ForexSelling>1.1517</ForexSelling>\\r\\n\\t\\t\\t<BanknoteBuying>1.1453</BanknoteBuying>\\r\\n\\t\\t\\t<BanknoteSelling>1.1544</BanknoteSelling>\\r\\n\\t\\t\\t\\t<CrossRateUSD>6.1334</CrossRateUSD>\\r\\n\\t\\t\\t\\t<CrossRateOther/>\\r\\n\\t\\t\\r\\n\\t</Currency>\\r\\n\\t<Currency CrossOrder=\"9\" Kod=\"EUR\" CurrencyCode=\"EUR\">\\r\\n\\t\\t\\t<Unit>1</Unit>\\r\\n\\t\\t\\t<Isim>EURO</Isim>\\r\\n\\t\\t\\t<CurrencyName>EURO</CurrencyName>\\r\\n\\t\\t\\t<ForexBuying>8.5374</ForexBuying>\\r\\n\\t\\t\\t<ForexSelling>8.5527</ForexSelling>\\r\\n\\t\\t\\t<BanknoteBuying>8.5314</BanknoteBuying>\\r\\n\\t\\t\\t<BanknoteSelling>8.5656</BanknoteSelling>\\r\\n\\t\\t\\t\\t<CrossRateUSD/>\\r\\n\\t\\t\\t\\t<CrossRateOther>1.2126</CrossRateOther>\\r\\n\\t\\t\\r\\n\\t</Currency>\\r\\n\\t<Currency CrossOrder=\"10\" Kod=\"GBP\" CurrencyCode=\"GBP\">\\r\\n\\t\\t\\t<Unit>1</Unit>\\r\\n\\t\\t\\t<Isim>\\xc4\\xb0NG\\xc4\\xb0L\\xc4\\xb0Z STERL\\xc4\\xb0N\\xc4\\xb0</Isim>\\r\\n\\t\\t\\t<CurrencyName>POUND STERLING</CurrencyName>\\r\\n\\t\\t\\t<ForexBuying>9.7222</ForexBuying>\\r\\n\\t\\t\\t<ForexSelling>9.7728</ForexSelling>\\r\\n\\t\\t\\t<BanknoteBuying>9.7154</BanknoteBuying>\\r\\n\\t\\t\\t<BanknoteSelling>9.7875</BanknoteSelling>\\r\\n\\t\\t\\t\\t<CrossRateUSD/>\\r\\n\\t\\t\\t\\t<CrossRateOther>1.3833</CrossRateOther>\\r\\n\\t\\t\\r\\n\\t</Currency>\\r\\n\\t<Currency CrossOrder=\"3\" Kod=\"CHF\" CurrencyCode=\"CHF\">\\r\\n\\t\\t\\t<Unit>1</Unit>\\r\\n\\t\\t\\t<Isim>\\xc4\\xb0SV\\xc4\\xb0\\xc3\\x87RE FRANGI</Isim>\\r\\n\\t\\t\\t<CurrencyName>SWISS FRANK</CurrencyName>\\r\\n\\t\\t\\t<ForexBuying>7.8900</ForexBuying>\\r\\n\\t\\t\\t<ForexSelling>7.9406</ForexSelling>\\r\\n\\t\\t\\t<BanknoteBuying>7.8781</BanknoteBuying>\\r\\n\\t\\t\\t<BanknoteSelling>7.9525</BanknoteSelling>\\r\\n\\t\\t\\t\\t<CrossRateUSD>0.8903</CrossRateUSD>\\r\\n\\t\\t\\t\\t<CrossRateOther/>\\r\\n\\t\\t\\r\\n\\t</Currency>\\r\\n\\t<Currency CrossOrder=\"4\" Kod=\"SEK\" CurrencyCode=\"SEK\">\\r\\n\\t\\t\\t<Unit>1</Unit>\\r\\n\\t\\t\\t<Isim>\\xc4\\xb0SVE\\xc3\\x87 KRONU</Isim>\\r\\n\\t\\t\\t<CurrencyName>SWEDISH KRONA</CurrencyName>\\r\\n\\t\\t\\t<ForexBuying>0.84284</ForexBuying>\\r\\n\\t\\t\\t<ForexSelling>0.85157</ForexSelling>\\r\\n\\t\\t\\t<BanknoteBuying>0.84225</BanknoteBuying>\\r\\n\\t\\t\\t<BanknoteSelling>0.85353</BanknoteSelling>\\r\\n\\t\\t\\t\\t<CrossRateUSD>8.3176</CrossRateUSD>\\r\\n\\t\\t\\t\\t<CrossRateOther/>\\r\\n\\t\\t\\r\\n\\t</Currency>\\r\\n\\t<Currency CrossOrder=\"6\" Kod=\"CAD\" CurrencyCode=\"CAD\">\\r\\n\\t\\t\\t<Unit>1</Unit>\\r\\n\\t\\t\\t<Isim>KANADA DOLARI</Isim>\\r\\n\\t\\t\\t<CurrencyName>CANADIAN DOLLAR</CurrencyName>\\r\\n\\t\\t\\t<ForexBuying>5.5450</ForexBuying>\\r\\n\\t\\t\\t<ForexSelling>5.5700</ForexSelling>\\r\\n\\t\\t\\t<BanknoteBuying>5.5245</BanknoteBuying>\\r\\n\\t\\t\\t<BanknoteSelling>5.5912</BanknoteSelling>\\r\\n\\t\\t\\t\\t<CrossRateUSD>1.2680</CrossRateUSD>\\r\\n\\t\\t\\t\\t<CrossRateOther/>\\r\\n\\t\\t\\r\\n\\t</Currency>\\r\\n\\t<Currency CrossOrder=\"11\" Kod=\"KWD\" CurrencyCode=\"KWD\">\\r\\n\\t\\t\\t<Unit>1</Unit>\\r\\n\\t\\t\\t<Isim>KUVEYT D\\xc4\\xb0NARI</Isim>\\r\\n\\t\\t\\t<CurrencyName>KUWAITI DINAR</CurrencyName>\\r\\n\\t\\t\\t<ForexBuying>23.1572</ForexBuying>\\r\\n\\t\\t\\t<ForexSelling>23.4602</ForexSelling>\\r\\n\\t\\t\\t<BanknoteBuying>22.8099</BanknoteBuying>\\r\\n\\t\\t\\t<BanknoteSelling>23.8121</BanknoteSelling>\\r\\n\\t\\t\\t\\t<CrossRateUSD/>\\r\\n\\t\\t\\t\\t<CrossRateOther>3.3077</CrossRateOther>\\r\\n\\t\\t\\r\\n\\t</Currency>\\r\\n\\t<Currency CrossOrder=\"7\" Kod=\"NOK\" CurrencyCode=\"NOK\">\\r\\n\\t\\t\\t<Unit>1</Unit>\\r\\n\\t\\t\\t<Isim>NORVE\\xc3\\x87 KRONU</Isim>\\r\\n\\t\\t\\t<CurrencyName>NORWEGIAN KRONE</CurrencyName>\\r\\n\\t\\t\\t<ForexBuying>0.82981</ForexBuying>\\r\\n\\t\\t\\t<ForexSelling>0.83539</ForexSelling>\\r\\n\\t\\t\\t<BanknoteBuying>0.82923</BanknoteBuying>\\r\\n\\t\\t\\t<BanknoteSelling>0.83731</BanknoteSelling>\\r\\n\\t\\t\\t\\t<CrossRateUSD>8.4635</CrossRateUSD>\\r\\n\\t\\t\\t\\t<CrossRateOther/>\\r\\n\\t\\t\\r\\n\\t</Currency>\\r\\n\\t<Currency CrossOrder=\"8\" Kod=\"SAR\" CurrencyCode=\"SAR\">\\r\\n\\t\\t\\t<Unit>1</Unit>\\r\\n\\t\\t\\t<Isim>SUUD\\xc4\\xb0 ARAB\\xc4\\xb0STAN R\\xc4\\xb0YAL\\xc4\\xb0</Isim>\\r\\n\\t\\t\\t<CurrencyName>SAUDI RIYAL</CurrencyName>\\r\\n\\t\\t\\t<ForexBuying>1.8770</ForexBuying>\\r\\n\\t\\t\\t<ForexSelling>1.8804</ForexSelling>\\r\\n\\t\\t\\t<BanknoteBuying>1.8629</BanknoteBuying>\\r\\n\\t\\t\\t<BanknoteSelling>1.8945</BanknoteSelling>\\r\\n\\t\\t\\t\\t<CrossRateUSD>3.7509</CrossRateUSD>\\r\\n\\t\\t\\t\\t<CrossRateOther/>\\r\\n\\t\\t\\r\\n\\t</Currency>\\r\\n\\t<Currency CrossOrder=\"5\" Kod=\"JPY\" CurrencyCode=\"JPY\">\\r\\n\\t\\t\\t<Unit>100</Unit>\\r\\n\\t\\t\\t<Isim>JAPON YEN\\xc4\\xb0</Isim>\\r\\n\\t\\t\\t<CurrencyName>JAPENESE YEN</CurrencyName>\\r\\n\\t\\t\\t<ForexBuying>6.7102</ForexBuying>\\r\\n\\t\\t\\t<ForexSelling>6.7547</ForexSelling>\\r\\n\\t\\t\\t<BanknoteBuying>6.6854</BanknoteBuying>\\r\\n\\t\\t\\t<BanknoteSelling>6.7803</BanknoteSelling>\\r\\n\\t\\t\\t\\t<CrossRateUSD>104.67</CrossRateUSD>\\r\\n\\t\\t\\t\\t<CrossRateOther/>\\r\\n\\t\\t\\r\\n\\t</Currency>\\r\\n\\t<Currency CrossOrder=\"12\" Kod=\"BGN\" CurrencyCode=\"BGN\">\\r\\n\\t\\t\\t<Unit>1</Unit>\\r\\n\\t\\t\\t<Isim>BULGAR LEVASI</Isim>\\r\\n\\t\\t\\t<CurrencyName>BULGARIAN LEV</CurrencyName>\\r\\n\\t\\t\\t<ForexBuying>4.3405</ForexBuying>\\r\\n\\t\\t\\t<ForexSelling>4.3973</ForexSelling>\\r\\n\\t\\t\\t<BanknoteBuying></BanknoteBuying>\\r\\n\\t\\t\\t<BanknoteSelling></BanknoteSelling>\\r\\n\\t\\t\\t\\t<CrossRateUSD>1.6129</CrossRateUSD>\\r\\n\\t\\t\\t\\t<CrossRateOther/>\\r\\n\\t\\t\\r\\n\\t</Currency>\\r\\n\\t<Currency CrossOrder=\"13\" Kod=\"RON\" CurrencyCode=\"RON\">\\r\\n\\t\\t\\t<Unit>1</Unit>\\r\\n\\t\\t\\t<Isim>RUMEN LEY\\xc4\\xb0</Isim>\\r\\n\\t\\t\\t<CurrencyName>NEW LEU</CurrencyName>\\r\\n\\t\\t\\t<ForexBuying>1.7415</ForexBuying>\\r\\n\\t\\t\\t<ForexSelling>1.7643</ForexSelling>\\r\\n\\t\\t\\t<BanknoteBuying></BanknoteBuying>\\r\\n\\t\\t\\t<BanknoteSelling></BanknoteSelling>\\r\\n\\t\\t\\t\\t<CrossRateUSD>4.0201</CrossRateUSD>\\r\\n\\t\\t\\t\\t<CrossRateOther/>\\r\\n\\t\\t\\r\\n\\t</Currency>\\r\\n\\t<Currency CrossOrder=\"14\" Kod=\"RUB\" CurrencyCode=\"RUB\">\\r\\n\\t\\t\\t<Unit>1</Unit>\\r\\n\\t\\t\\t<Isim>RUS RUBLES\\xc4\\xb0</Isim>\\r\\n\\t\\t\\t<CurrencyName>RUSSIAN ROUBLE</CurrencyName>\\r\\n\\t\\t\\t<ForexBuying>0.09489</ForexBuying>\\r\\n\\t\\t\\t<ForexSelling>0.09613</ForexSelling>\\r\\n\\t\\t\\t<BanknoteBuying></BanknoteBuying>\\r\\n\\t\\t\\t<BanknoteSelling></BanknoteSelling>\\r\\n\\t\\t\\t\\t<CrossRateUSD>73.78</CrossRateUSD>\\r\\n\\t\\t\\t\\t<CrossRateOther/>\\r\\n\\t\\t\\r\\n\\t</Currency>\\r\\n\\t<Currency CrossOrder=\"15\" Kod=\"IRR\" CurrencyCode=\"IRR\">\\r\\n\\t\\t\\t<Unit>100</Unit>\\r\\n\\t\\t\\t<Isim>\\xc4\\xb0RAN R\\xc4\\xb0YAL\\xc4\\xb0</Isim>\\r\\n\\t\\t\\t<CurrencyName>IRANIAN RIAL</CurrencyName>\\r\\n\\t\\t\\t<ForexBuying>0.01667</ForexBuying>\\r\\n\\t\\t\\t<ForexSelling>0.01689</ForexSelling>\\r\\n\\t\\t\\t<BanknoteBuying></BanknoteBuying>\\r\\n\\t\\t\\t<BanknoteSelling></BanknoteSelling>\\r\\n\\t\\t\\t\\t<CrossRateUSD>42000</CrossRateUSD>\\r\\n\\t\\t\\t\\t<CrossRateOther/>\\r\\n\\t\\t\\r\\n\\t</Currency>\\r\\n\\t<Currency CrossOrder=\"16\" Kod=\"CNY\" CurrencyCode=\"CNY\">\\r\\n\\t\\t\\t<Unit>1</Unit>\\r\\n\\t\\t\\t<Isim>\\xc3\\x87\\xc4\\xb0N YUANI</Isim>\\r\\n\\t\\t\\t<CurrencyName>CHINESE RENMINBI</CurrencyName>\\r\\n\\t\\t\\t<ForexBuying>1.0840</ForexBuying>\\r\\n\\t\\t\\t<ForexSelling>1.0982</ForexSelling>\\r\\n\\t\\t\\t<BanknoteBuying></BanknoteBuying>\\r\\n\\t\\t\\t<BanknoteSelling></BanknoteSelling>\\r\\n\\t\\t\\t\\t<CrossRateUSD>6.4582</CrossRateUSD>\\r\\n\\t\\t\\t\\t<CrossRateOther/>\\r\\n\\t\\t\\r\\n\\t</Currency>\\r\\n\\t<Currency CrossOrder=\"17\" Kod=\"PKR\" CurrencyCode=\"PKR\">\\r\\n\\t\\t\\t<Unit>1</Unit>\\r\\n\\t\\t\\t<Isim>PAK\\xc4\\xb0STAN RUP\\xc4\\xb0S\\xc4\\xb0</Isim>\\r\\n\\t\\t\\t<CurrencyName>PAKISTANI RUPEE</CurrencyName>\\r\\n\\t\\t\\t<ForexBuying>0.04403</ForexBuying>\\r\\n\\t\\t\\t<ForexSelling>0.04460</ForexSelling>\\r\\n\\t\\t\\t<BanknoteBuying></BanknoteBuying>\\r\\n\\t\\t\\t<BanknoteSelling></BanknoteSelling>\\r\\n\\t\\t\\t\\t<CrossRateUSD>159.01</CrossRateUSD>\\r\\n\\t\\t\\t\\t<CrossRateOther/>\\r\\n\\t\\t\\r\\n\\t</Currency>\\r\\n\\t<Currency CrossOrder=\"18\" Kod=\"QAR\" CurrencyCode=\"QAR\">\\r\\n\\t\\t\\t<Unit>1</Unit>\\r\\n\\t\\t\\t<Isim>KATAR R\\xc4\\xb0YAL\\xc4\\xb0</Isim>\\r\\n\\t\\t\\t<CurrencyName>QATARI RIAL</CurrencyName>\\r\\n\\t\\t\\t<ForexBuying>1.9227</ForexBuying>\\r\\n\\t\\t\\t<ForexSelling>1.9479</ForexSelling>\\r\\n\\t\\t\\t<BanknoteBuying></BanknoteBuying>\\r\\n\\t\\t\\t<BanknoteSelling></BanknoteSelling>\\r\\n\\t\\t\\t\\t<CrossRateUSD>3.6412</CrossRateUSD>\\r\\n\\t\\t\\t\\t<CrossRateOther/>\\r\\n\\t\\t\\r\\n\\t</Currency>\\r\\n\\t<Currency CrossOrder=\"0\" Kod=\"XDR\" CurrencyCode=\"XDR\">\\r\\n\\t\\t<Unit>1</Unit>\\r\\n\\t\\t<Isim>\\xc3\\x96ZEL \\xc3\\x87EKME HAKKI (SDR)                            </Isim>\\r\\n\\t\\t<CurrencyName>SPECIAL DRAWING RIGHT (SDR)                       </CurrencyName>\\r\\n\\t\\t<ForexBuying>10.1583</ForexBuying>\\r\\n\\t\\t<ForexSelling/>\\r\\n\\t\\t<BanknoteBuying/>\\r\\n\\t\\t<BanknoteSelling/>\\r\\n\\t\\t<CrossRateUSD/>\\r\\n\\t\\t<CrossRateOther>1.44157</CrossRateOther>\\r\\n\\t</Currency>\\r\\n</Tarih_Date>\\r\\n'"
      ]
     },
     "execution_count": 13,
     "metadata": {},
     "output_type": "execute_result"
    }
   ],
   "source": [
    "response.content"
   ]
  }
 ],
 "metadata": {
  "kernelspec": {
   "display_name": "Python 3",
   "language": "python",
   "name": "python3"
  },
  "language_info": {
   "codemirror_mode": {
    "name": "ipython",
    "version": 3
   },
   "file_extension": ".py",
   "mimetype": "text/x-python",
   "name": "python",
   "nbconvert_exporter": "python",
   "pygments_lexer": "ipython3",
   "version": "3.7.7"
  }
 },
 "nbformat": 4,
 "nbformat_minor": 4
}
